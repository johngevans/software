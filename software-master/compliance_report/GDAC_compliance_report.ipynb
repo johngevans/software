{
 "cells": [
  {
   "cell_type": "markdown",
   "metadata": {},
   "source": [
    "### OceanSITES GDAC Dataset Conventions Compliance Report \n",
    "*Using the Python utility compliance_report.py to assess CF-1.6 and ACDD compliance of two example sites *\n",
    "\n",
    "Execute at a shell prompt a compliance report for sites MBARI and PAPA:\n",
    "```\n",
    "time python compliance_report.py --test cf:1.6 acdd --format summary http://data.nodc.noaa.gov/thredds/catalog/ndbc/oceansites/DATA/MBARI/catalog.xml https://data.nodc.noaa.gov/thredds/catalog/ndbc/oceansites/DATA/PAPA/catalog.xml > OS_MBARI_PAPA.csv\n",
    "```\n",
    "    \n",
    "This took about 25 minutes to complete. Once it is done and has written the `OS_MBARI_PAPA.csv` file execute the following cells.\n",
    "\n",
    "__Note:__\n",
    "\n",
    "> I had to edit the file to remove two lines:\n",
    "```\n",
    "Failed to get report for https://data.nodc.noaa.gov/thredds/dodsC/ndbc/oceansites/DATA/PAPA/OS_PAPA_2011PA005_D_ADCP-1day.nc\n",
    "Unknown service with content-type: text/plain; charset=UTF-8\n",
    "```\n",
    "There is something wrong with that file on the GDAC.\n",
    "\n",
    "\n",
    "Open a Jupyter Notebook browser window by executing at the command line:\n",
    "```\n",
    "jupyter notebook\n",
    "```\n",
    "\n",
    "Then open this file and execute the cells."
   ]
  },
  {
   "cell_type": "markdown",
   "metadata": {},
   "source": [
    "Create a Pandas dataframe of the csv data:"
   ]
  },
  {
   "cell_type": "code",
   "execution_count": 1,
   "metadata": {},
   "outputs": [],
   "source": [
    "import pandas as pd\n",
    "df = pd.read_csv('OS_MBARI_PAPA.csv')"
   ]
  },
  {
   "cell_type": "markdown",
   "metadata": {},
   "source": [
    "Add a column that is the site name pulled out of the url column:"
   ]
  },
  {
   "cell_type": "code",
   "execution_count": 2,
   "metadata": {},
   "outputs": [],
   "source": [
    "df['site'] = df.url.str.split('/').str[8]"
   ]
  },
  {
   "cell_type": "markdown",
   "metadata": {},
   "source": [
    "Print summary compliance scores for each site:"
   ]
  },
  {
   "cell_type": "code",
   "execution_count": 3,
   "metadata": {},
   "outputs": [
    {
     "data": {
      "text/html": [
       "<div>\n",
       "<style scoped>\n",
       "    .dataframe tbody tr th:only-of-type {\n",
       "        vertical-align: middle;\n",
       "    }\n",
       "\n",
       "    .dataframe tbody tr th {\n",
       "        vertical-align: top;\n",
       "    }\n",
       "\n",
       "    .dataframe thead tr th {\n",
       "        text-align: left;\n",
       "    }\n",
       "\n",
       "    .dataframe thead tr:last-of-type th {\n",
       "        text-align: right;\n",
       "    }\n",
       "</style>\n",
       "<table border=\"1\" class=\"dataframe\">\n",
       "  <thead>\n",
       "    <tr>\n",
       "      <th></th>\n",
       "      <th colspan=\"4\" halign=\"left\">acdd</th>\n",
       "      <th colspan=\"4\" halign=\"left\">cf:1.6</th>\n",
       "    </tr>\n",
       "    <tr>\n",
       "      <th></th>\n",
       "      <th>count</th>\n",
       "      <th>mean</th>\n",
       "      <th>min</th>\n",
       "      <th>max</th>\n",
       "      <th>count</th>\n",
       "      <th>mean</th>\n",
       "      <th>min</th>\n",
       "      <th>max</th>\n",
       "    </tr>\n",
       "    <tr>\n",
       "      <th>site</th>\n",
       "      <th></th>\n",
       "      <th></th>\n",
       "      <th></th>\n",
       "      <th></th>\n",
       "      <th></th>\n",
       "      <th></th>\n",
       "      <th></th>\n",
       "      <th></th>\n",
       "    </tr>\n",
       "  </thead>\n",
       "  <tbody>\n",
       "    <tr>\n",
       "      <th>MBARI</th>\n",
       "      <td>63</td>\n",
       "      <td>69.053968</td>\n",
       "      <td>61.0</td>\n",
       "      <td>78.9</td>\n",
       "      <td>63</td>\n",
       "      <td>98.693651</td>\n",
       "      <td>97.5</td>\n",
       "      <td>100.0</td>\n",
       "    </tr>\n",
       "    <tr>\n",
       "      <th>PAPA</th>\n",
       "      <td>72</td>\n",
       "      <td>73.943056</td>\n",
       "      <td>52.6</td>\n",
       "      <td>78.2</td>\n",
       "      <td>72</td>\n",
       "      <td>99.412500</td>\n",
       "      <td>95.0</td>\n",
       "      <td>100.0</td>\n",
       "    </tr>\n",
       "  </tbody>\n",
       "</table>\n",
       "</div>"
      ],
      "text/plain": [
       "       acdd                        cf:1.6                        \n",
       "      count       mean   min   max  count       mean   min    max\n",
       "site                                                             \n",
       "MBARI    63  69.053968  61.0  78.9     63  98.693651  97.5  100.0\n",
       "PAPA     72  73.943056  52.6  78.2     72  99.412500  95.0  100.0"
      ]
     },
     "execution_count": 3,
     "metadata": {},
     "output_type": "execute_result"
    }
   ],
   "source": [
    "df.groupby('site').agg(['count', 'mean', 'min', 'max'])"
   ]
  },
  {
   "cell_type": "code",
   "execution_count": null,
   "metadata": {},
   "outputs": [],
   "source": []
  }
 ],
 "metadata": {
  "kernelspec": {
   "display_name": "Python 3",
   "language": "python",
   "name": "python3"
  },
  "language_info": {
   "codemirror_mode": {
    "name": "ipython",
    "version": 3
   },
   "file_extension": ".py",
   "mimetype": "text/x-python",
   "name": "python",
   "nbconvert_exporter": "python",
   "pygments_lexer": "ipython3",
   "version": "3.6.5"
  }
 },
 "nbformat": 4,
 "nbformat_minor": 1
}
